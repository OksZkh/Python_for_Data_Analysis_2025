{
  "cells": [
    {
      "cell_type": "markdown",
      "metadata": {
        "id": "d35u3EENfcCo"
      },
      "source": [
        "Импортируем необходимые библиотеки"
      ]
    },
    {
      "cell_type": "code",
      "execution_count": 23,
      "metadata": {
        "id": "NYHBrVoXfeMi"
      },
      "outputs": [],
      "source": [
        "import requests\n",
        "from bs4 import BeautifulSoup\n",
        "import pandas as pd\n",
        "from tqdm import tqdm\n",
        "import time"
      ]
    },
    {
      "cell_type": "markdown",
      "metadata": {
        "id": "1BQBkM3jffgW"
      },
      "source": [
        "Определяем обычную ссылку на страницу и формат ссылки для пагинации"
      ]
    },
    {
      "cell_type": "code",
      "execution_count": 24,
      "metadata": {
        "id": "vC4FCCWrfgw9"
      },
      "outputs": [],
      "source": [
        "base_url = \"https://lifehacker.ru/\"\n",
        "base_url_tech_page = \"https://lifehacker.ru/topics/technology/?page={}\""
      ]
    },
    {
      "cell_type": "markdown",
      "metadata": {
        "id": "A_B8mYJTfptO"
      },
      "source": [
        "Так как теги класса формируеютс при помощи js, необходимо установить Selenium"
      ]
    },
    {
      "cell_type": "code",
      "execution_count": null,
      "metadata": {
        "id": "Ltyxf4I3fUnk"
      },
      "outputs": [],
      "source": [
        "%pip install -q google-colab-selenium"
      ]
    },
    {
      "cell_type": "code",
      "execution_count": 26,
      "metadata": {
        "id": "ots7Kvsebz8E"
      },
      "outputs": [],
      "source": [
        "import google_colab_selenium as gs\n",
        "from selenium.webdriver.chrome.service import Service"
      ]
    },
    {
      "cell_type": "markdown",
      "metadata": {
        "id": "o1skoKSrf6qu"
      },
      "source": [
        "Собраем ссылки на статьи по 10 страницам"
      ]
    },
    {
      "cell_type": "code",
      "execution_count": 27,
      "metadata": {
        "colab": {
          "base_uri": "https://localhost:8080/",
          "height": 221
        },
        "id": "00mrXeZsq3Ol",
        "outputId": "2b27bdc1-c292-41bd-f69f-fe813a43d4da"
      },
      "outputs": [
        {
          "data": {
            "text/html": [
              "\n",
              "            <div class=\"spinner-container\">\n",
              "                <div class=\"spinner\" id=\"a4045809-f949-4cbd-9f66-b46d6ac9d6fd-circle\"></div>\n",
              "                <div class=\"spinner-text\" id=\"a4045809-f949-4cbd-9f66-b46d6ac9d6fd-text\">Initializing Chromedriver</div>\n",
              "            </div>\n",
              "            <style>\n",
              "                @keyframes spin {\n",
              "                    from { transform: rotate(0deg); }\n",
              "                    to { transform: rotate(360deg); }\n",
              "                }\n",
              "\n",
              "                .spinner-container {\n",
              "                    display: flex;\n",
              "                    align-items: center;\n",
              "                    margin-bottom: 3px;\n",
              "                }\n",
              "\n",
              "                .spinner {\n",
              "                    border: 3px solid rgba(0, 0, 0, 0.1);\n",
              "                    border-left-color: lightblue;\n",
              "                    border-radius: 50%;\n",
              "                    width: 12px;\n",
              "                    height: 12px;\n",
              "                    animation: spin 1s linear infinite;\n",
              "                }\n",
              "\n",
              "                .spinner-text {\n",
              "                    padding-left: 6px;\n",
              "                }\n",
              "            </style>\n",
              "        "
            ],
            "text/plain": [
              "<IPython.core.display.HTML object>"
            ]
          },
          "metadata": {},
          "output_type": "display_data"
        },
        {
          "data": {
            "application/javascript": "\n            const element = document.getElementById(\"a4045809-f949-4cbd-9f66-b46d6ac9d6fd-circle\");\n            element.style.border = \"3px solid limegreen\";\n            element.style.animation = \"none\";\n\n            const text = document.getElementById(\"a4045809-f949-4cbd-9f66-b46d6ac9d6fd-text\");\n            text.innerText = \"Initialized Chromedriver\";\n        ",
            "text/plain": [
              "<IPython.core.display.Javascript object>"
            ]
          },
          "metadata": {},
          "output_type": "display_data"
        },
        {
          "data": {
            "text/html": [
              "\n",
              "            <div class=\"spinner-container\">\n",
              "                <div class=\"spinner\" id=\"4a5ed989-2ad9-4c47-8adf-a1d1e6e07e05-circle\"></div>\n",
              "                <div class=\"spinner-text\" id=\"4a5ed989-2ad9-4c47-8adf-a1d1e6e07e05-text\">Initializing Chromedriver</div>\n",
              "            </div>\n",
              "            <style>\n",
              "                @keyframes spin {\n",
              "                    from { transform: rotate(0deg); }\n",
              "                    to { transform: rotate(360deg); }\n",
              "                }\n",
              "\n",
              "                .spinner-container {\n",
              "                    display: flex;\n",
              "                    align-items: center;\n",
              "                    margin-bottom: 3px;\n",
              "                }\n",
              "\n",
              "                .spinner {\n",
              "                    border: 3px solid rgba(0, 0, 0, 0.1);\n",
              "                    border-left-color: lightblue;\n",
              "                    border-radius: 50%;\n",
              "                    width: 12px;\n",
              "                    height: 12px;\n",
              "                    animation: spin 1s linear infinite;\n",
              "                }\n",
              "\n",
              "                .spinner-text {\n",
              "                    padding-left: 6px;\n",
              "                }\n",
              "            </style>\n",
              "        "
            ],
            "text/plain": [
              "<IPython.core.display.HTML object>"
            ]
          },
          "metadata": {},
          "output_type": "display_data"
        },
        {
          "data": {
            "application/javascript": "\n            const element = document.getElementById(\"4a5ed989-2ad9-4c47-8adf-a1d1e6e07e05-circle\");\n            element.style.border = \"3px solid limegreen\";\n            element.style.animation = \"none\";\n\n            const text = document.getElementById(\"4a5ed989-2ad9-4c47-8adf-a1d1e6e07e05-text\");\n            text.innerText = \"Initialized Chromedriver\";\n        ",
            "text/plain": [
              "<IPython.core.display.Javascript object>"
            ]
          },
          "metadata": {},
          "output_type": "display_data"
        },
        {
          "data": {
            "text/html": [
              "\n",
              "            <div class=\"spinner-container\">\n",
              "                <div class=\"spinner\" id=\"3ec22e08-3db8-4664-b023-0c994a3d3f23-circle\"></div>\n",
              "                <div class=\"spinner-text\" id=\"3ec22e08-3db8-4664-b023-0c994a3d3f23-text\">Initializing Chromedriver</div>\n",
              "            </div>\n",
              "            <style>\n",
              "                @keyframes spin {\n",
              "                    from { transform: rotate(0deg); }\n",
              "                    to { transform: rotate(360deg); }\n",
              "                }\n",
              "\n",
              "                .spinner-container {\n",
              "                    display: flex;\n",
              "                    align-items: center;\n",
              "                    margin-bottom: 3px;\n",
              "                }\n",
              "\n",
              "                .spinner {\n",
              "                    border: 3px solid rgba(0, 0, 0, 0.1);\n",
              "                    border-left-color: lightblue;\n",
              "                    border-radius: 50%;\n",
              "                    width: 12px;\n",
              "                    height: 12px;\n",
              "                    animation: spin 1s linear infinite;\n",
              "                }\n",
              "\n",
              "                .spinner-text {\n",
              "                    padding-left: 6px;\n",
              "                }\n",
              "            </style>\n",
              "        "
            ],
            "text/plain": [
              "<IPython.core.display.HTML object>"
            ]
          },
          "metadata": {},
          "output_type": "display_data"
        },
        {
          "data": {
            "application/javascript": "\n            const element = document.getElementById(\"3ec22e08-3db8-4664-b023-0c994a3d3f23-circle\");\n            element.style.border = \"3px solid limegreen\";\n            element.style.animation = \"none\";\n\n            const text = document.getElementById(\"3ec22e08-3db8-4664-b023-0c994a3d3f23-text\");\n            text.innerText = \"Initialized Chromedriver\";\n        ",
            "text/plain": [
              "<IPython.core.display.Javascript object>"
            ]
          },
          "metadata": {},
          "output_type": "display_data"
        },
        {
          "data": {
            "text/html": [
              "\n",
              "            <div class=\"spinner-container\">\n",
              "                <div class=\"spinner\" id=\"17a9f07b-9338-4e75-9b1e-b279acee5bfc-circle\"></div>\n",
              "                <div class=\"spinner-text\" id=\"17a9f07b-9338-4e75-9b1e-b279acee5bfc-text\">Initializing Chromedriver</div>\n",
              "            </div>\n",
              "            <style>\n",
              "                @keyframes spin {\n",
              "                    from { transform: rotate(0deg); }\n",
              "                    to { transform: rotate(360deg); }\n",
              "                }\n",
              "\n",
              "                .spinner-container {\n",
              "                    display: flex;\n",
              "                    align-items: center;\n",
              "                    margin-bottom: 3px;\n",
              "                }\n",
              "\n",
              "                .spinner {\n",
              "                    border: 3px solid rgba(0, 0, 0, 0.1);\n",
              "                    border-left-color: lightblue;\n",
              "                    border-radius: 50%;\n",
              "                    width: 12px;\n",
              "                    height: 12px;\n",
              "                    animation: spin 1s linear infinite;\n",
              "                }\n",
              "\n",
              "                .spinner-text {\n",
              "                    padding-left: 6px;\n",
              "                }\n",
              "            </style>\n",
              "        "
            ],
            "text/plain": [
              "<IPython.core.display.HTML object>"
            ]
          },
          "metadata": {},
          "output_type": "display_data"
        },
        {
          "data": {
            "application/javascript": "\n            const element = document.getElementById(\"17a9f07b-9338-4e75-9b1e-b279acee5bfc-circle\");\n            element.style.border = \"3px solid limegreen\";\n            element.style.animation = \"none\";\n\n            const text = document.getElementById(\"17a9f07b-9338-4e75-9b1e-b279acee5bfc-text\");\n            text.innerText = \"Initialized Chromedriver\";\n        ",
            "text/plain": [
              "<IPython.core.display.Javascript object>"
            ]
          },
          "metadata": {},
          "output_type": "display_data"
        },
        {
          "data": {
            "text/html": [
              "\n",
              "            <div class=\"spinner-container\">\n",
              "                <div class=\"spinner\" id=\"8ff6614b-202f-4ae4-a899-ffda533e4a07-circle\"></div>\n",
              "                <div class=\"spinner-text\" id=\"8ff6614b-202f-4ae4-a899-ffda533e4a07-text\">Initializing Chromedriver</div>\n",
              "            </div>\n",
              "            <style>\n",
              "                @keyframes spin {\n",
              "                    from { transform: rotate(0deg); }\n",
              "                    to { transform: rotate(360deg); }\n",
              "                }\n",
              "\n",
              "                .spinner-container {\n",
              "                    display: flex;\n",
              "                    align-items: center;\n",
              "                    margin-bottom: 3px;\n",
              "                }\n",
              "\n",
              "                .spinner {\n",
              "                    border: 3px solid rgba(0, 0, 0, 0.1);\n",
              "                    border-left-color: lightblue;\n",
              "                    border-radius: 50%;\n",
              "                    width: 12px;\n",
              "                    height: 12px;\n",
              "                    animation: spin 1s linear infinite;\n",
              "                }\n",
              "\n",
              "                .spinner-text {\n",
              "                    padding-left: 6px;\n",
              "                }\n",
              "            </style>\n",
              "        "
            ],
            "text/plain": [
              "<IPython.core.display.HTML object>"
            ]
          },
          "metadata": {},
          "output_type": "display_data"
        },
        {
          "data": {
            "application/javascript": "\n            const element = document.getElementById(\"8ff6614b-202f-4ae4-a899-ffda533e4a07-circle\");\n            element.style.border = \"3px solid limegreen\";\n            element.style.animation = \"none\";\n\n            const text = document.getElementById(\"8ff6614b-202f-4ae4-a899-ffda533e4a07-text\");\n            text.innerText = \"Initialized Chromedriver\";\n        ",
            "text/plain": [
              "<IPython.core.display.Javascript object>"
            ]
          },
          "metadata": {},
          "output_type": "display_data"
        },
        {
          "data": {
            "text/html": [
              "\n",
              "            <div class=\"spinner-container\">\n",
              "                <div class=\"spinner\" id=\"3fe2d802-30bd-4113-a4b0-47c202a06485-circle\"></div>\n",
              "                <div class=\"spinner-text\" id=\"3fe2d802-30bd-4113-a4b0-47c202a06485-text\">Initializing Chromedriver</div>\n",
              "            </div>\n",
              "            <style>\n",
              "                @keyframes spin {\n",
              "                    from { transform: rotate(0deg); }\n",
              "                    to { transform: rotate(360deg); }\n",
              "                }\n",
              "\n",
              "                .spinner-container {\n",
              "                    display: flex;\n",
              "                    align-items: center;\n",
              "                    margin-bottom: 3px;\n",
              "                }\n",
              "\n",
              "                .spinner {\n",
              "                    border: 3px solid rgba(0, 0, 0, 0.1);\n",
              "                    border-left-color: lightblue;\n",
              "                    border-radius: 50%;\n",
              "                    width: 12px;\n",
              "                    height: 12px;\n",
              "                    animation: spin 1s linear infinite;\n",
              "                }\n",
              "\n",
              "                .spinner-text {\n",
              "                    padding-left: 6px;\n",
              "                }\n",
              "            </style>\n",
              "        "
            ],
            "text/plain": [
              "<IPython.core.display.HTML object>"
            ]
          },
          "metadata": {},
          "output_type": "display_data"
        },
        {
          "data": {
            "application/javascript": "\n            const element = document.getElementById(\"3fe2d802-30bd-4113-a4b0-47c202a06485-circle\");\n            element.style.border = \"3px solid limegreen\";\n            element.style.animation = \"none\";\n\n            const text = document.getElementById(\"3fe2d802-30bd-4113-a4b0-47c202a06485-text\");\n            text.innerText = \"Initialized Chromedriver\";\n        ",
            "text/plain": [
              "<IPython.core.display.Javascript object>"
            ]
          },
          "metadata": {},
          "output_type": "display_data"
        },
        {
          "data": {
            "text/html": [
              "\n",
              "            <div class=\"spinner-container\">\n",
              "                <div class=\"spinner\" id=\"ddfd2369-4a3c-48b3-8aaf-0ccd572ecd7a-circle\"></div>\n",
              "                <div class=\"spinner-text\" id=\"ddfd2369-4a3c-48b3-8aaf-0ccd572ecd7a-text\">Initializing Chromedriver</div>\n",
              "            </div>\n",
              "            <style>\n",
              "                @keyframes spin {\n",
              "                    from { transform: rotate(0deg); }\n",
              "                    to { transform: rotate(360deg); }\n",
              "                }\n",
              "\n",
              "                .spinner-container {\n",
              "                    display: flex;\n",
              "                    align-items: center;\n",
              "                    margin-bottom: 3px;\n",
              "                }\n",
              "\n",
              "                .spinner {\n",
              "                    border: 3px solid rgba(0, 0, 0, 0.1);\n",
              "                    border-left-color: lightblue;\n",
              "                    border-radius: 50%;\n",
              "                    width: 12px;\n",
              "                    height: 12px;\n",
              "                    animation: spin 1s linear infinite;\n",
              "                }\n",
              "\n",
              "                .spinner-text {\n",
              "                    padding-left: 6px;\n",
              "                }\n",
              "            </style>\n",
              "        "
            ],
            "text/plain": [
              "<IPython.core.display.HTML object>"
            ]
          },
          "metadata": {},
          "output_type": "display_data"
        },
        {
          "data": {
            "application/javascript": "\n            const element = document.getElementById(\"ddfd2369-4a3c-48b3-8aaf-0ccd572ecd7a-circle\");\n            element.style.border = \"3px solid limegreen\";\n            element.style.animation = \"none\";\n\n            const text = document.getElementById(\"ddfd2369-4a3c-48b3-8aaf-0ccd572ecd7a-text\");\n            text.innerText = \"Initialized Chromedriver\";\n        ",
            "text/plain": [
              "<IPython.core.display.Javascript object>"
            ]
          },
          "metadata": {},
          "output_type": "display_data"
        },
        {
          "data": {
            "text/html": [
              "\n",
              "            <div class=\"spinner-container\">\n",
              "                <div class=\"spinner\" id=\"f66dd6b5-81ff-412b-95f6-f0ee89aeec27-circle\"></div>\n",
              "                <div class=\"spinner-text\" id=\"f66dd6b5-81ff-412b-95f6-f0ee89aeec27-text\">Initializing Chromedriver</div>\n",
              "            </div>\n",
              "            <style>\n",
              "                @keyframes spin {\n",
              "                    from { transform: rotate(0deg); }\n",
              "                    to { transform: rotate(360deg); }\n",
              "                }\n",
              "\n",
              "                .spinner-container {\n",
              "                    display: flex;\n",
              "                    align-items: center;\n",
              "                    margin-bottom: 3px;\n",
              "                }\n",
              "\n",
              "                .spinner {\n",
              "                    border: 3px solid rgba(0, 0, 0, 0.1);\n",
              "                    border-left-color: lightblue;\n",
              "                    border-radius: 50%;\n",
              "                    width: 12px;\n",
              "                    height: 12px;\n",
              "                    animation: spin 1s linear infinite;\n",
              "                }\n",
              "\n",
              "                .spinner-text {\n",
              "                    padding-left: 6px;\n",
              "                }\n",
              "            </style>\n",
              "        "
            ],
            "text/plain": [
              "<IPython.core.display.HTML object>"
            ]
          },
          "metadata": {},
          "output_type": "display_data"
        },
        {
          "data": {
            "application/javascript": "\n            const element = document.getElementById(\"f66dd6b5-81ff-412b-95f6-f0ee89aeec27-circle\");\n            element.style.border = \"3px solid limegreen\";\n            element.style.animation = \"none\";\n\n            const text = document.getElementById(\"f66dd6b5-81ff-412b-95f6-f0ee89aeec27-text\");\n            text.innerText = \"Initialized Chromedriver\";\n        ",
            "text/plain": [
              "<IPython.core.display.Javascript object>"
            ]
          },
          "metadata": {},
          "output_type": "display_data"
        },
        {
          "data": {
            "text/html": [
              "\n",
              "            <div class=\"spinner-container\">\n",
              "                <div class=\"spinner\" id=\"98d14ea7-8580-4e99-b7a1-9a4b3a34bc38-circle\"></div>\n",
              "                <div class=\"spinner-text\" id=\"98d14ea7-8580-4e99-b7a1-9a4b3a34bc38-text\">Initializing Chromedriver</div>\n",
              "            </div>\n",
              "            <style>\n",
              "                @keyframes spin {\n",
              "                    from { transform: rotate(0deg); }\n",
              "                    to { transform: rotate(360deg); }\n",
              "                }\n",
              "\n",
              "                .spinner-container {\n",
              "                    display: flex;\n",
              "                    align-items: center;\n",
              "                    margin-bottom: 3px;\n",
              "                }\n",
              "\n",
              "                .spinner {\n",
              "                    border: 3px solid rgba(0, 0, 0, 0.1);\n",
              "                    border-left-color: lightblue;\n",
              "                    border-radius: 50%;\n",
              "                    width: 12px;\n",
              "                    height: 12px;\n",
              "                    animation: spin 1s linear infinite;\n",
              "                }\n",
              "\n",
              "                .spinner-text {\n",
              "                    padding-left: 6px;\n",
              "                }\n",
              "            </style>\n",
              "        "
            ],
            "text/plain": [
              "<IPython.core.display.HTML object>"
            ]
          },
          "metadata": {},
          "output_type": "display_data"
        },
        {
          "data": {
            "application/javascript": "\n            const element = document.getElementById(\"98d14ea7-8580-4e99-b7a1-9a4b3a34bc38-circle\");\n            element.style.border = \"3px solid limegreen\";\n            element.style.animation = \"none\";\n\n            const text = document.getElementById(\"98d14ea7-8580-4e99-b7a1-9a4b3a34bc38-text\");\n            text.innerText = \"Initialized Chromedriver\";\n        ",
            "text/plain": [
              "<IPython.core.display.Javascript object>"
            ]
          },
          "metadata": {},
          "output_type": "display_data"
        },
        {
          "data": {
            "text/html": [
              "\n",
              "            <div class=\"spinner-container\">\n",
              "                <div class=\"spinner\" id=\"a467a235-c1ab-4b80-9963-cf3cbb5dfb31-circle\"></div>\n",
              "                <div class=\"spinner-text\" id=\"a467a235-c1ab-4b80-9963-cf3cbb5dfb31-text\">Initializing Chromedriver</div>\n",
              "            </div>\n",
              "            <style>\n",
              "                @keyframes spin {\n",
              "                    from { transform: rotate(0deg); }\n",
              "                    to { transform: rotate(360deg); }\n",
              "                }\n",
              "\n",
              "                .spinner-container {\n",
              "                    display: flex;\n",
              "                    align-items: center;\n",
              "                    margin-bottom: 3px;\n",
              "                }\n",
              "\n",
              "                .spinner {\n",
              "                    border: 3px solid rgba(0, 0, 0, 0.1);\n",
              "                    border-left-color: lightblue;\n",
              "                    border-radius: 50%;\n",
              "                    width: 12px;\n",
              "                    height: 12px;\n",
              "                    animation: spin 1s linear infinite;\n",
              "                }\n",
              "\n",
              "                .spinner-text {\n",
              "                    padding-left: 6px;\n",
              "                }\n",
              "            </style>\n",
              "        "
            ],
            "text/plain": [
              "<IPython.core.display.HTML object>"
            ]
          },
          "metadata": {},
          "output_type": "display_data"
        },
        {
          "data": {
            "application/javascript": "\n            const element = document.getElementById(\"a467a235-c1ab-4b80-9963-cf3cbb5dfb31-circle\");\n            element.style.border = \"3px solid limegreen\";\n            element.style.animation = \"none\";\n\n            const text = document.getElementById(\"a467a235-c1ab-4b80-9963-cf3cbb5dfb31-text\");\n            text.innerText = \"Initialized Chromedriver\";\n        ",
            "text/plain": [
              "<IPython.core.display.Javascript object>"
            ]
          },
          "metadata": {},
          "output_type": "display_data"
        }
      ],
      "source": [
        "parsed_urls = []\n",
        "pages_to_parse = 10\n",
        "\n",
        "\n",
        "for page_num in range(1, pages_to_parse + 1):\n",
        "  url = base_url_tech_page.format(page_num)\n",
        "  driver = gs.Chrome()\n",
        "  driver.get(url)\n",
        "  time.sleep(5)\n",
        "  #response = requests.get(driver.page_source)\n",
        "  soup = BeautifulSoup(driver.page_source, 'lxml')\n",
        "  raw_items = soup.find_all('a', class_='lh-small-article-card__link') # получаем ссылку на статью из карточки\n",
        "  parsed_urls += [item.get('href') for item in raw_items]\n",
        "  driver.quit()"
      ]
    },
    {
      "cell_type": "markdown",
      "metadata": {
        "id": "XVA0I4bxgAAM"
      },
      "source": [
        "Собираем заголовки и содержание статей"
      ]
    },
    {
      "cell_type": "code",
      "execution_count": 20,
      "metadata": {
        "colab": {
          "base_uri": "https://localhost:8080/"
        },
        "id": "SHCl649cfmno",
        "outputId": "aa9e02f5-20c6-4b80-db4a-853bcb7f593c"
      },
      "outputs": [
        {
          "name": "stderr",
          "output_type": "stream",
          "text": [
            "100%|██████████| 300/300 [08:12<00:00,  1.64s/it]\n"
          ]
        }
      ],
      "source": [
        "result = []\n",
        "\n",
        "for url in tqdm(parsed_urls):\n",
        "  article = {}\n",
        "\n",
        "  article_url = f'{base_url}{url}' # подставляем часть ссылки, ведущую к материалу\n",
        "  response = requests.get(article_url)\n",
        "  soup = BeautifulSoup(response.text, 'lxml')\n",
        "\n",
        "  # Безопасное извлечение заголовка\n",
        "  title_tag = soup.find('h1', class_='article-card__title')\n",
        "  article['title'] = title_tag.text.strip() if title_tag else None\n",
        "\n",
        "  # Безопасное извлечение текста\n",
        "  content_tag = soup.find('article', class_='single-article__post-content')\n",
        "  article['text'] = content_tag.text.strip() if content_tag else None\n",
        "\n",
        "  result.append(article)"
      ]
    },
    {
      "cell_type": "markdown",
      "metadata": {
        "id": "FrT6BVO3gEl4"
      },
      "source": [
        "Делаем оформление"
      ]
    },
    {
      "cell_type": "code",
      "execution_count": 21,
      "metadata": {
        "id": "OB4G37VbfozN"
      },
      "outputs": [],
      "source": [
        "pd.set_option('display.max_colwidth', 400)"
      ]
    },
    {
      "cell_type": "markdown",
      "metadata": {
        "id": "O3dbkXPhgGba"
      },
      "source": [
        "Вывод результатов"
      ]
    },
    {
      "cell_type": "code",
      "execution_count": 22,
      "metadata": {
        "colab": {
          "base_uri": "https://localhost:8080/",
          "height": 379
        },
        "id": "ygQfLSPLftG3",
        "outputId": "801eacfe-80e3-4752-f404-1be4357f2290"
      },
      "outputs": [
        {
          "data": {
            "application/vnd.google.colaboratory.intrinsic+json": {
              "summary": "{\n  \"name\": \"data\",\n  \"rows\": 300,\n  \"fields\": [\n    {\n      \"column\": \"title\",\n      \"properties\": {\n        \"dtype\": \"string\",\n        \"num_unique_values\": 299,\n        \"samples\": [\n          \"\\u042d\\u043a\\u0441\\u043f\\u0435\\u0440\\u0442\\u044b Notebookcheck \\u043e\\u043f\\u0440\\u0435\\u0434\\u0435\\u043b\\u0438\\u043b\\u0438 \\u0441\\u0430\\u043c\\u044b\\u0435 \\u044d\\u043a\\u043e\\u043d\\u043e\\u043c\\u0438\\u0447\\u043d\\u044b\\u0435 \\u0431\\u0440\\u0430\\u0443\\u0437\\u0435\\u0440\\u044b. \\u00ab\\u042f\\u043d\\u0434\\u0435\\u043a\\u0441\\u00bb \\u043e\\u0431\\u043e\\u0448\\u0451\\u043b\\u00a0Chrome \\u0438\\u00a0Edge\",\n          \"\\u041d\\u043e\\u0432\\u043e\\u0435 \\u043c\\u043e\\u0431\\u0438\\u043b\\u044c\\u043d\\u043e\\u0435 \\u043f\\u0440\\u0438\\u043b\\u043e\\u0436\\u0435\\u043d\\u0438\\u0435 touch grass \\u0437\\u0430\\u0441\\u0442\\u0430\\u0432\\u043b\\u044f\\u0435\\u0442 \\u0432\\u044b\\u0439\\u0442\\u0438 \\u043d\\u0430 \\u0443\\u043b\\u0438\\u0446\\u0443 \\u0438 \\u043f\\u043e\\u0442\\u0440\\u043e\\u0433\\u0430\\u0442\\u044c \\u0442\\u0440\\u0430\\u0432\\u0443 \\u2014 \\u0447\\u0442\\u043e\\u0431\\u044b \\u043e\\u0442\\u0432\\u043b\\u0435\\u0447\\u044c\\u0441\\u044f \\u043e\\u0442 \\u0441\\u043e\\u0446\\u0441\\u0435\\u0442\\u0435\\u0439\",\n          \"\\u041f\\u0440\\u0435\\u0434\\u0441\\u0442\\u0430\\u0432\\u043b\\u0435\\u043d\\u044b \\u043f\\u043b\\u0430\\u043d\\u0448\\u0435\\u0442\\u044b Samsung Tab S10 FE \\u0441 \\u0437\\u0430\\u0449\\u0438\\u0442\\u043e\\u0439 IP68 \\u0438 \\u0441\\u0442\\u0438\\u043b\\u0443\\u0441\\u043e\\u043c \\u0432 \\u043a\\u043e\\u043c\\u043f\\u043b\\u0435\\u043a\\u0442\\u0435\"\n        ],\n        \"semantic_type\": \"\",\n        \"description\": \"\"\n      }\n    },\n    {\n      \"column\": \"text\",\n      \"properties\": {\n        \"dtype\": \"string\",\n        \"num_unique_values\": 299,\n        \"samples\": [\n          \"\\u041f\\u043e\\u0440\\u0442\\u0430\\u043b\\u00a0Notebookcheck \\u043f\\u0440\\u043e\\u0432\\u0435\\u0440\\u0438\\u043b,\\u00a0\\u0441\\u043a\\u043e\\u043b\\u044c\\u043a\\u043e \\u043e\\u043f\\u0435\\u0440\\u0430\\u0442\\u0438\\u0432\\u043d\\u043e\\u0439 \\u043f\\u0430\\u043c\\u044f\\u0442\\u0438 \\u043f\\u043e\\u0442\\u0440\\u0435\\u0431\\u043b\\u044f\\u044e\\u0442 \\u043f\\u043e\\u043f\\u0443\\u043b\\u044f\\u0440\\u043d\\u044b\\u0435 \\u0431\\u0440\\u0430\\u0443\\u0437\\u0435\\u0440\\u044b, \\u0432\\u043a\\u043b\\u044e\\u0447\\u0430\\u044f\\u00a0Chrome, Edge, Firefox, Opera \\u0438 \\u00ab\\u042f\\u043d\\u0434\\u0435\\u043a\\u0441 \\u0411\\u0440\\u0430\\u0443\\u0437\\u0435\\u0440\\u00bb.\\u00a0\\u042d\\u043a\\u0441\\u043f\\u0435\\u0440\\u0438\\u043c\\u0435\\u043d\\u0442 \\u043f\\u0440\\u043e\\u0432\\u043e\\u0434\\u0438\\u043b\\u0441\\u044f \\u043d\\u0430 \\u043d\\u043e\\u0443\\u0442\\u0431\\u0443\\u043a\\u0435 MSI Prestige \\u0441 \\u043f\\u0440\\u043e\\u0446\\u0435\\u0441\\u0441\\u043e\\u0440\\u043e\\u043c Core i7-1195G7, 16 \\u0413\\u0411 \\u041e\\u0417\\u0423 \\u0438 \\u043d\\u0435\\u0434\\u0430\\u0432\\u043d\\u043e \\u0443\\u0441\\u0442\\u0430\\u043d\\u043e\\u0432\\u043b\\u0435\\u043d\\u043d\\u043e\\u0439 64-\\u0440\\u0430\\u0437\\u0440\\u044f\\u0434\\u043d\\u043e\\u0439 Windows 10 Home\\u00a022H2.\\u0414\\u043b\\u044f \\u0442\\u0435\\u0441\\u0442\\u0430 \\u0438\\u0441\\u043f\\u043e\\u043b\\u044c\\u0437\\u043e\\u0432\\u0430\\u043b\\u0438\\u0441\\u044c \\u043f\\u043e\\u0441\\u043b\\u0435\\u0434\\u043d\\u0438\\u0435 \\u0432\\u0435\\u0440\\u0441\\u0438\\u0438 \\u0441\\u0435\\u0440\\u0432\\u0438\\u0441\\u043e\\u0432 \\u0441 \\u043c\\u0438\\u043d\\u0438\\u043c\\u0430\\u043b\\u044c\\u043d\\u044b\\u043c\\u0438 \\u0438\\u0437\\u043c\\u0435\\u043d\\u0435\\u043d\\u0438\\u044f\\u043c\\u0438 \\u0432 \\u0441\\u0442\\u0430\\u043d\\u0434\\u0430\\u0440\\u0442\\u043d\\u044b\\u0445 \\u043d\\u0430\\u0441\\u0442\\u0440\\u043e\\u0439\\u043a\\u0430\\u0445. \\u0412 \\u0445\\u043e\\u0434\\u0435 \\u0438\\u0441\\u043f\\u044b\\u0442\\u0430\\u043d\\u0438\\u0439 \\u0441\\u043f\\u0435\\u0446\\u0438\\u0430\\u043b\\u0438\\u0441\\u0442\\u044b \\u0441\\u0440\\u0435\\u0434\\u0438 \\u043f\\u0440\\u043e\\u0447\\u0435\\u0433\\u043e \\u0432\\u044b\\u043f\\u043e\\u043b\\u043d\\u044f\\u043b\\u0438 \\u0441\\u043b\\u0435\\u0434\\u0443\\u044e\\u0449\\u0438\\u0435 \\u0434\\u0435\\u0439\\u0441\\u0442\\u0432\\u0438\\u044f:\\u043d\\u0430\\u0431\\u0438\\u0440\\u0430\\u043b\\u0438 \\u043d\\u0443\\u0436\\u043d\\u044b\\u0439 \\u0441\\u0430\\u0439\\u0442\\u00a0\\u043f\\u0443\\u0442\\u0451\\u043c \\u0440\\u0443\\u0447\\u043d\\u043e\\u0433\\u043e \\u0432\\u0432\\u043e\\u0434\\u0430 \\u0432 \\u0430\\u0434\\u0440\\u0435\\u0441\\u043d\\u043e\\u0439 \\u0441\\u0442\\u0440\\u043e\\u043a\\u0435;\\n\\u043d\\u0430\\u0436\\u0438\\u043c\\u0430\\u043b\\u0438 \\u043a\\u043d\\u043e\\u043f\\u043a\\u0438 \\u0441\\u043e\\u0433\\u043b\\u0430\\u0441\\u0438\\u044f \\u043d\\u0430 \\u0438\\u0441\\u043f\\u043e\\u043b\\u044c\\u0437\\u043e\\u0432\\u0430\\u043d\\u0438\\u0435 \\u0444\\u0430\\u0439\\u043b\\u043e\\u0432 cookie;\\u00a0\\n\\u043e\\u0442\\u043a\\u0440\\u044b\\u0432\\u0430\\u043b\\u0438 \\u0441\\u0442\\u0440\\u0430\\u043d\\u0438\\u0446\\u044b \\u0432 \\u043d\\u043e\\u0432\\u044b\\u0445 \\u0432\\u043a\\u043b\\u0430\\u0434\\u043a\\u0430\\u0445, \\u0432 \\u0442\\u043e\\u043c \\u0447\\u0438\\u0441\\u043b\\u0435 \\u0441 \\u0440\\u043e\\u043b\\u0438\\u043a\\u0430\\u043c\\u0438 \\u043d\\u0430 YouTube;\\n\\u0437\\u0430\\u043a\\u0440\\u044b\\u0432\\u0430\\u043b\\u0438 \\u0438\\u0441\\u0445\\u043e\\u0434\\u043d\\u044b\\u0435 \\u0432\\u043a\\u043b\\u0430\\u0434\\u043a\\u0438;\\n\\u043f\\u043e\\u0441\\u0435\\u0449\\u0430\\u043b\\u0438\\u0441\\u044c \\u043c\\u0435\\u043d\\u044e \\u043d\\u0430\\u0441\\u0442\\u0440\\u043e\\u0435\\u043a;\\n\\u0437\\u0430\\u043f\\u0443\\u0441\\u043a\\u0430\\u043b\\u0438 \\u0434\\u0438\\u0441\\u043f\\u0435\\u0442\\u0447\\u0435\\u0440 \\u0437\\u0430\\u0434\\u0430\\u0447.\\u00a0\\n\\u041d\\u0430\\u0438\\u0431\\u043e\\u043b\\u0435\\u0435 \\u044d\\u043a\\u043e\\u043d\\u043e\\u043c\\u0438\\u0447\\u043d\\u044b\\u043c\\u0438 \\u043e\\u043a\\u0430\\u0437\\u0430\\u043b\\u0438\\u0441\\u044c Whale, \\u00ab\\u042f\\u043d\\u0434\\u0435\\u043a\\u0441 \\u0411\\u0440\\u0430\\u0443\\u0437\\u0435\\u0440\\u00bb \\u0438 Maxthon.\\u00a0Chrome \\u0441\\u0442\\u0430\\u043b \\u043b\\u0438\\u0448\\u044c \\u0441\\u0435\\u0434\\u044c\\u043c\\u044b\\u043c, \\u0438 \\u0442\\u0435\\u0441\\u0442\\u0435\\u0440\\u044b \\u043e\\u0442\\u043c\\u0435\\u0447\\u0430\\u044e\\u0442, \\u0447\\u0442\\u043e \\u0434\\u043b\\u044f \\u0441\\u0438\\u0441\\u0442\\u0435\\u043c \\u0441 \\u043e\\u0433\\u0440\\u0430\\u043d\\u0438\\u0447\\u0435\\u043d\\u043d\\u044b\\u043c \\u043e\\u0431\\u044a\\u0451\\u043c\\u043e\\u043c \\u043e\\u043f\\u0435\\u0440\\u0430\\u0442\\u0438\\u0432\\u043d\\u043e\\u0439 \\u043f\\u0430\\u043c\\u044f\\u0442\\u0438 \\u043e\\u043d \\u0434\\u0430\\u043b\\u0435\\u043a\\u043e \\u043d\\u0435 \\u043b\\u0443\\u0447\\u0448\\u0438\\u0439 \\u0432\\u044b\\u0431\\u043e\\u0440.\\u0412\\u0435\\u0441\\u044c \\u0440\\u0435\\u0439\\u0442\\u0438\\u043d\\u0433 \\u0432\\u044b\\u0433\\u043b\\u044f\\u0434\\u0438\\u0442 \\u0442\\u0430\\u043a:Whale (Chromium 132) \\u2014 1 176\\u00a0\\u041c\\u0431.\\n\\u00ab\\u042f\\u043d\\u0434\\u0435\\u043a\\u0441 \\u0411\\u0440\\u0430\\u0443\\u0437\\u0435\\u0440\\u00bb (Chromium 132) \\u2014 1 194\\u00a0\\u041c\\u0431.\\nMaxthon (Chromium 128) \\u2014 1 222\\u00a0\\u041c\\u0431.\\nSleipnir (Chromium 131) \\u2014 1 228\\u00a0\\u041c\\u0431.\\nFirefox 136 \\u2014 1 327\\u00a0\\u041c\\u0431.\\nEdge (Chromium 134) \\u2014 1 486\\u00a0\\u041c\\u0431.\\nChrome (Chromium 134) \\u2014 1 516\\u00a0\\u041c\\u0431.\\nOpera (Chromium 132) \\u2014 1 523\\u00a0\\u041c\\u0431.\\nOpera GX (Chromium 132) \\u2014 1 586\\u00a0\\u041c\\u0431.\\nOpera Air (Chromium 131) \\u2014 1 697\\u00a0\\u041c\\u0431.\\nC\\u1ed1c C\\u1ed1c (Chromium 133)\\u00a0\\u2014 1 968\\u00a0\\u041c\\u0431.\\n\\u0410 \\u043a\\u0430\\u043a\\u0438\\u043c \\u0431\\u0440\\u0430\\u0443\\u0437\\u0435\\u0440\\u043e\\u043c \\u043f\\u043e\\u043b\\u044c\\u0437\\u0443\\u0435\\u0442\\u0435\\u0441\\u044c \\u0432\\u044b?\\u0415\\u0449\\u0451 \\u043f\\u0440\\u043e \\u0431\\u0440\\u0430\\u0443\\u0437\\u0435\\u0440\\u044b\\ud83e\\udd14\\u0412 \\u043f\\u043e\\u0438\\u0441\\u043a\\u043e\\u0432\\u0438\\u043a\\u0435 DuckDuckGo \\u043f\\u043e\\u044f\\u0432\\u0438\\u043b\\u0441\\u044f \\u0434\\u043e\\u0441\\u0442\\u0443\\u043f \\u043a\\u00a0GPT-4o mini \\u0438\\u00a0Claude 3 Haiku\\u041d\\u0430\\u0447\\u0430\\u0442\\u044c \\u0441 \\u0447\\u0438\\u0441\\u0442\\u043e\\u0433\\u043e \\u043b\\u0438\\u0441\\u0442\\u0430: \\u043a\\u0430\\u043a \\u043f\\u043e\\u043b\\u043d\\u043e\\u0441\\u0442\\u044c\\u044e \\u0438\\u043b\\u0438 \\u0432\\u044b\\u0431\\u043e\\u0440\\u043e\\u0447\\u043d\\u043e \\u0441\\u0431\\u0440\\u043e\\u0441\\u0438\\u0442\\u044c \\u043d\\u0430\\u0441\\u0442\\u0440\\u043e\\u0439\\u043a\\u0438 \\u0431\\u0440\\u0430\\u0443\\u0437\\u0435\\u0440\\u0430\\u0412 Chrome \\u043f\\u043e\\u044f\\u0432\\u0438\\u043b\\u0430\\u0441\\u044c \\u0435\\u0449\\u0451 \\u043e\\u0434\\u043d\\u0430 \\u0418\\u0418-\\u0444\\u0443\\u043d\\u043a\\u0446\\u0438\\u044f \\u2014 \\u0430\\u0432\\u0442\\u043e\\u043c\\u0430\\u0442\\u0438\\u0447\\u0435\\u0441\\u043a\\u0430\\u044f \\u0441\\u043c\\u0435\\u043d\\u0430 \\u0443\\u043a\\u0440\\u0430\\u0434\\u0435\\u043d\\u043d\\u044b\\u0445 \\u043f\\u0430\\u0440\\u043e\\u043b\\u0435\\u0439\",\n          \"\\u0411\\u0440\\u0438\\u0442\\u0430\\u043d\\u0441\\u043a\\u0438\\u0439 \\u0440\\u0430\\u0437\\u0440\\u0430\\u0431\\u043e\\u0442\\u0447\\u0438\\u043a \\u0420\\u0438\\u0441 \\u041a\\u0435\\u043d\\u0442\\u0438\\u0448 \\u0432\\u044b\\u043f\\u0443\\u0441\\u0442\\u0438\\u043b \\u043f\\u0440\\u0438\\u043b\\u043e\\u0436\\u0435\\u043d\\u0438\\u0435 Touch Grass, \\u043a\\u043e\\u0442\\u043e\\u0440\\u043e\\u0435 \\u0431\\u043b\\u043e\\u043a\\u0438\\u0440\\u0443\\u0435\\u0442 \\u0434\\u043e\\u0441\\u0442\\u0443\\u043f \\u043a \\u0441\\u043e\\u0446\\u0438\\u0430\\u043b\\u044c\\u043d\\u044b\\u043c \\u0441\\u0435\\u0442\\u044f\\u043c. \\u0427\\u0442\\u043e\\u0431\\u044b \\u0438\\u0445 \\u0440\\u0430\\u0437\\u0431\\u043b\\u043e\\u043a\\u0438\\u0440\\u043e\\u0432\\u0430\\u0442\\u044c, \\u043d\\u0443\\u0436\\u043d\\u043e \\u0434\\u043e\\u043a\\u0430\\u0437\\u0430\\u0442\\u044c, \\u0447\\u0442\\u043e \\u0432\\u044b \\u043f\\u043e\\u0442\\u0440\\u043e\\u0433\\u0430\\u043b\\u0438 \\u0442\\u0440\\u0430\\u0432\\u0443.\\u041f\\u0440\\u0438\\u043d\\u0446\\u0438\\u043f \\u0440\\u0430\\u0431\\u043e\\u0442\\u044b \\u043f\\u0440\\u043e\\u0441\\u0442: \\u043f\\u043e\\u0441\\u043b\\u0435 \\u0443\\u0441\\u0442\\u0430\\u043d\\u043e\\u0432\\u043a\\u0438 \\u043f\\u0440\\u0438\\u043b\\u043e\\u0436\\u0435\\u043d\\u0438\\u044f \\u043d\\u0443\\u0436\\u043d\\u043e \\u0432\\u044b\\u0431\\u0440\\u0430\\u0442\\u044c \\u0434\\u0432\\u0430 \\u0441\\u0430\\u043c\\u044b\\u0445 \\u043e\\u0442\\u0432\\u043b\\u0435\\u043a\\u0430\\u044e\\u0449\\u0438\\u0445 \\u0441\\u0435\\u0440\\u0432\\u0438\\u0441\\u0430. \\u041e\\u043d\\u0438 \\u0431\\u0443\\u0434\\u0443\\u0442 \\u0437\\u0430\\u0431\\u043b\\u043e\\u043a\\u0438\\u0440\\u043e\\u0432\\u0430\\u043d\\u044b \\u0434\\u043e \\u0442\\u0435\\u0445 \\u043f\\u043e\\u0440, \\u043f\\u043e\\u043a\\u0430 \\u0432\\u044b \\u043d\\u0435 \\u0432\\u044b\\u0439\\u0434\\u0435\\u0442\\u0435 \\u043d\\u0430 \\u0443\\u043b\\u0438\\u0446\\u0443 \\u0438 \\u043d\\u0435 \\u0441\\u0444\\u043e\\u0442\\u043e\\u0433\\u0440\\u0430\\u0444\\u0438\\u0440\\u0443\\u0435\\u0442\\u0435, \\u043a\\u0430\\u043a \\u0442\\u0440\\u043e\\u0433\\u0430\\u0435\\u0442\\u0435 \\u0442\\u0440\\u0430\\u0432\\u0443. \\u041f\\u043e\\u0441\\u043b\\u0435 \\u044d\\u0442\\u043e\\u0433\\u043e \\u043c\\u043e\\u0436\\u043d\\u043e \\u043d\\u0430\\u0441\\u0442\\u0440\\u043e\\u0438\\u0442\\u044c \\u043b\\u0438\\u043c\\u0438\\u0442 \\u0432\\u0440\\u0435\\u043c\\u0435\\u043d\\u0438 \\u043d\\u0430 \\u0438\\u0441\\u043f\\u043e\\u043b\\u044c\\u0437\\u043e\\u0432\\u0430\\u043d\\u0438\\u0435 \\u0440\\u0430\\u0437\\u0431\\u043b\\u043e\\u043a\\u0438\\u0440\\u043e\\u0432\\u0430\\u043d\\u043d\\u044b\\u0445 \\u043f\\u0440\\u0438\\u043b\\u043e\\u0436\\u0435\\u043d\\u0438\\u0439.Touch Grass \\u0434\\u043e\\u0441\\u0442\\u0443\\u043f\\u043d\\u043e \\u0431\\u0435\\u0441\\u043f\\u043b\\u0430\\u0442\\u043d\\u043e \\u0434\\u043b\\u044f iPhone, \\u043d\\u043e \\u043f\\u043b\\u0430\\u0442\\u043d\\u0430\\u044f \\u043f\\u043e\\u0434\\u043f\\u0438\\u0441\\u043a\\u0430 \\u0437\\u0430 \\u0448\\u0435\\u0441\\u0442\\u044c \\u0434\\u043e\\u043b\\u043b\\u0430\\u0440\\u043e\\u0432 \\u0432 \\u043c\\u0435\\u0441\\u044f\\u0446 \\u0438\\u043b\\u0438 50 \\u0432 \\u0433\\u043e\\u0434 \\u043f\\u043e\\u0437\\u0432\\u043e\\u043b\\u044f\\u0435\\u0442 \\u0431\\u043b\\u043e\\u043a\\u0438\\u0440\\u043e\\u0432\\u0430\\u0442\\u044c \\u043d\\u0435\\u043e\\u0433\\u0440\\u0430\\u043d\\u0438\\u0447\\u0435\\u043d\\u043d\\u043e\\u0435 \\u043a\\u043e\\u043b\\u0438\\u0447\\u0435\\u0441\\u0442\\u0432\\u043e \\u0441\\u0435\\u0440\\u0432\\u0438\\u0441\\u043e\\u0432 \\u0438 \\u043f\\u0440\\u0435\\u0434\\u043e\\u0441\\u0442\\u0430\\u0432\\u043b\\u044f\\u0435\\u0442 \\u0440\\u0430\\u0441\\u0448\\u0438\\u0440\\u0435\\u043d\\u043d\\u044b\\u0435 \\u043e\\u0442\\u0447\\u0451\\u0442\\u044b \\u043e \\u0432\\u0440\\u0435\\u043c\\u0435\\u043d\\u0438, \\u043f\\u0440\\u043e\\u0432\\u0435\\u0434\\u0451\\u043d\\u043d\\u043e\\u043c \\u0432 \\u0421\\u0435\\u0442\\u0438. \\u0420\\u0430\\u0437 \\u0432 \\u043c\\u0435\\u0441\\u044f\\u0446 \\u0434\\u043e\\u0441\\u0442\\u0443\\u043f\\u0435\\u043d \\u043e\\u0434\\u0438\\u043d \\u0431\\u0435\\u0441\\u043f\\u043b\\u0430\\u0442\\u043d\\u044b\\u0439 \\u043f\\u0440\\u043e\\u043f\\u0443\\u0441\\u043a, \\u043f\\u043e\\u0437\\u0432\\u043e\\u043b\\u044f\\u044e\\u0449\\u0438\\u0439 \\u0440\\u0430\\u0437\\u0431\\u043b\\u043e\\u043a\\u0438\\u0440\\u043e\\u0432\\u0430\\u0442\\u044c \\u043f\\u0440\\u0438\\u043b\\u043e\\u0436\\u0435\\u043d\\u0438\\u044f \\u0431\\u0435\\u0437 \\u0432\\u044b\\u0445\\u043e\\u0434\\u0430 \\u043d\\u0430 \\u0443\\u043b\\u0438\\u0446\\u0443, \\u0442\\u0430\\u043a\\u0436\\u0435 \\u043c\\u043e\\u0436\\u043d\\u043e \\u043a\\u0443\\u043f\\u0438\\u0442\\u044c \\u0434\\u043e\\u043f\\u043e\\u043b\\u043d\\u0438\\u0442\\u0435\\u043b\\u044c\\u043d\\u044b\\u0435 \\u043f\\u0440\\u043e\\u043f\\u0443\\u0441\\u043a\\u0438. \\u041f\\u043e\\u043b\\u043e\\u0432\\u0438\\u043d\\u0443 \\u0434\\u043e\\u0445\\u043e\\u0434\\u043e\\u0432 \\u043e\\u0442 \\u0438\\u0445 \\u043f\\u0440\\u043e\\u0434\\u0430\\u0436\\u0438 \\u041a\\u0435\\u043d\\u0442\\u0438\\u0448 \\u043f\\u043b\\u0430\\u043d\\u0438\\u0440\\u0443\\u0435\\u0442 \\u043d\\u0430\\u043f\\u0440\\u0430\\u0432\\u043b\\u044f\\u0442\\u044c \\u043d\\u0430 \\u043e\\u0445\\u0440\\u0430\\u043d\\u0443 \\u0434\\u0438\\u043a\\u043e\\u0439 \\u043f\\u0440\\u0438\\u0440\\u043e\\u0434\\u044b \\u0432 \\u0412\\u0435\\u043b\\u0438\\u043a\\u043e\\u0431\\u0440\\u0438\\u0442\\u0430\\u043d\\u0438\\u0438.\\u0412 \\u0431\\u0443\\u0434\\u0443\\u0449\\u0435\\u043c \\u0440\\u0430\\u0437\\u0440\\u0430\\u0431\\u043e\\u0442\\u0447\\u0438\\u043a \\u0445\\u043e\\u0447\\u0435\\u0442 \\u0434\\u043e\\u0431\\u0430\\u0432\\u0438\\u0442\\u044c \\u043f\\u043e\\u0434\\u0434\\u0435\\u0440\\u0436\\u043a\\u0443 \\u043d\\u0435 \\u0442\\u043e\\u043b\\u044c\\u043a\\u043e \\u0442\\u0440\\u0430\\u0432\\u044b, \\u043d\\u043e \\u0438 \\u0441\\u043d\\u0435\\u0433\\u0430 \\u0438\\u043b\\u0438 \\u043f\\u0435\\u0441\\u043a\\u0430, \\u0430 \\u0442\\u0430\\u043a\\u0436\\u0435 \\u0432\\u044b\\u043f\\u0443\\u0441\\u0442\\u0438\\u0442\\u044c \\u0432\\u0435\\u0440\\u0441\\u0438\\u044e \\u0434\\u043b\\u044f Android. \\u041f\\u043e \\u0441\\u043b\\u043e\\u0432\\u0430\\u043c \\u041a\\u0435\\u043d\\u0442\\u0438\\u0448\\u0430, \\u0435\\u0433\\u043e \\u0446\\u0435\\u043b\\u044c \\u2014 \\u043f\\u043e\\u043c\\u043e\\u0447\\u044c \\u043b\\u044e\\u0434\\u044f\\u043c \\u043d\\u0430 \\u043c\\u0433\\u043d\\u043e\\u0432\\u0435\\u043d\\u0438\\u0435 \\u043e\\u0442\\u0432\\u043b\\u0435\\u0447\\u044c\\u0441\\u044f \\u043e\\u0442 \\u044d\\u043a\\u0440\\u0430\\u043d\\u043e\\u0432 \\u0438 \\u0432\\u043e\\u0441\\u0441\\u0442\\u0430\\u043d\\u043e\\u0432\\u0438\\u0442\\u044c \\u0441\\u0432\\u044f\\u0437\\u044c \\u0441 \\u043f\\u0440\\u0438\\u0440\\u043e\\u0434\\u043e\\u0439.touch grass: reduce screentimeRhys Kentish\\u0426\\u0435\\u043d\\u0430: \\u0411\\u0435\\u0441\\u043f\\u043b\\u0430\\u0442\\u043d\\u043e\\n\\n\\n\\u0417\\u0430\\u0433\\u0440\\u0443\\u0437\\u0438\\u0442\\u044c\\u041d\\u043e\\u0432\\u043e\\u0441\\u0442\\u0438 \\u0442\\u0435\\u0445\\u043d\\u043e\\u043b\\u043e\\u0433\\u0438\\u0439\\ud83e\\udd14Android-\\u0441\\u043c\\u0430\\u0440\\u0442\\u0444\\u043e\\u043d\\u044b \\u0441\\u043c\\u043e\\u0433\\u0443\\u0442 \\u043f\\u043e\\u0434\\u043a\\u043b\\u044e\\u0447\\u0430\\u0442\\u044c\\u0441\\u044f \\u043a \\u0430\\u0443\\u0434\\u0438\\u043e\\u0442\\u0440\\u0430\\u043d\\u0441\\u043b\\u044f\\u0446\\u0438\\u044f\\u043c \\u0432 \\u0430\\u044d\\u0440\\u043e\\u043f\\u043e\\u0440\\u0442\\u0430\\u0445, \\u043d\\u0430 \\u043a\\u043e\\u043d\\u0446\\u0435\\u0440\\u0442\\u0430\\u0445 \\u0438 \\u0432 \\u0434\\u0440\\u0443\\u0433\\u0438\\u0445 \\u043c\\u0435\\u0441\\u0442\\u0430\\u0445AirPods \\u043f\\u043e\\u043b\\u0443\\u0447\\u0430\\u0442 \\u043f\\u043e\\u0434\\u0434\\u0435\\u0440\\u0436\\u043a\\u0443 \\u043f\\u0435\\u0440\\u0435\\u0432\\u043e\\u0434\\u0430 \\u0440\\u0435\\u0447\\u0438 \\u0432 \\u0440\\u0435\\u0430\\u043b\\u044c\\u043d\\u043e\\u043c \\u0432\\u0440\\u0435\\u043c\\u0435\\u043d\\u0438\\u0412 \\u00abGoogle \\u0424\\u043e\\u0442\\u043e\\u00bb \\u043d\\u0430 Android \\u0442\\u0435\\u043f\\u0435\\u0440\\u044c \\u043c\\u043e\\u0436\\u043d\\u043e \\u043e\\u0441\\u0432\\u043e\\u0431\\u043e\\u0434\\u0438\\u0442\\u044c \\u043c\\u0435\\u0441\\u0442\\u043e \\u0432 \\u043e\\u0431\\u043b\\u0430\\u043a\\u0435, \\u043d\\u0435 \\u0443\\u0434\\u0430\\u043b\\u044f\\u044f \\u0444\\u0430\\u0439\\u043b\\u044b \\u0441 \\u0443\\u0441\\u0442\\u0440\\u043e\\u0439\\u0441\\u0442\\u0432\\u0430\",\n          \"Samsung \\u0430\\u043d\\u043e\\u043d\\u0441\\u0438\\u0440\\u043e\\u0432\\u0430\\u043b\\u0430 Tab S10 FE \\u0438 Tab S10 FE Plus \\u2014 \\u0441\\u0432\\u043e\\u0438 \\u043d\\u043e\\u0432\\u0435\\u0439\\u0448\\u0438\\u0435 Android-\\u043f\\u043b\\u0430\\u043d\\u0448\\u0435\\u0442\\u044b \\u0441\\u0440\\u0435\\u0434\\u043d\\u0435\\u0433\\u043e \\u043a\\u043b\\u0430\\u0441\\u0441\\u0430. \\u00ab\\u041f\\u043b\\u044e\\u0441\\u00bb \\u043f\\u043e\\u0441\\u0442\\u0430\\u0432\\u043b\\u044f\\u0435\\u0442\\u0441\\u044f \\u0441 \\u043d\\u043e\\u0432\\u043e\\u0439 \\u0434\\u0438\\u0430\\u0433\\u043e\\u043d\\u0430\\u043b\\u044c\\u044e \\u044d\\u043a\\u0440\\u0430\\u043d\\u0430, \\u043f\\u043e\\u044d\\u0442\\u043e\\u043c\\u0443 \\u0442\\u0435\\u043f\\u0435\\u0440\\u044c \\u0432\\u0441\\u0435 \\u0447\\u0435\\u0442\\u044b\\u0440\\u0435 \\u0443\\u0441\\u0442\\u0440\\u043e\\u0439\\u0441\\u0442\\u0432\\u0430 \\u043b\\u0438\\u043d\\u0435\\u0439\\u043a\\u0438 Tab S10, \\u0432 \\u043a\\u043e\\u0442\\u043e\\u0440\\u0443\\u044e \\u0442\\u0430\\u043a\\u0436\\u0435 \\u0432\\u0445\\u043e\\u0434\\u044f\\u0442 S10 Plus \\u0438 S10 Ultra, \\u0438\\u043c\\u0435\\u044e\\u0442 \\u0440\\u0430\\u0437\\u043d\\u044b\\u0435 \\u0440\\u0430\\u0437\\u043c\\u0435\\u0440\\u044b.Tab S10 FE \\u043e\\u0441\\u043d\\u0430\\u0449\\u0451\\u043d 10,9\\u2011\\u0434\\u044e\\u0439\\u043c\\u043e\\u0432\\u044b\\u043c \\u0416\\u041a-\\u0434\\u0438\\u0441\\u043f\\u043b\\u0435\\u0435\\u043c, \\u0447\\u0442\\u043e \\u0434\\u0435\\u043b\\u0430\\u0435\\u0442 \\u0435\\u0433\\u043e \\u0441\\u0430\\u043c\\u044b\\u043c \\u043c\\u0430\\u043b\\u0435\\u043d\\u044c\\u043a\\u0438\\u043c \\u0432 \\u0441\\u0435\\u0440\\u0438\\u0438. \\u0427\\u0430\\u0441\\u0442\\u043e\\u0442\\u0430 \\u043e\\u0431\\u043d\\u043e\\u0432\\u043b\\u0435\\u043d\\u0438\\u044f \\u2014 90 \\u0413\\u0446, \\u044f\\u0440\\u043a\\u043e\\u0441\\u0442\\u044c \\u2014 \\u0434\\u043e 800 \\u043d\\u0438\\u0442. \\u0420\\u0430\\u0431\\u043e\\u0442\\u0430\\u0435\\u0442 \\u0434\\u0435\\u0432\\u0430\\u0439\\u0441 \\u043d\\u0430 \\u0431\\u0430\\u0437\\u0435 \\u0444\\u0438\\u0440\\u043c\\u0435\\u043d\\u043d\\u043e\\u0433\\u043e \\u0447\\u0438\\u043f\\u0441\\u0435\\u0442\\u0430 Exynos 1580, \\u0434\\u043e\\u043f\\u043e\\u043b\\u043d\\u0435\\u043d\\u043d\\u043e\\u0433\\u043e 8/12 \\u0413\\u0411 \\u043e\\u043f\\u0435\\u0440\\u0430\\u0442\\u0438\\u0432\\u043d\\u043e\\u0439 \\u043f\\u0430\\u043c\\u044f\\u0442\\u0438 \\u0438 128/256 \\u0413\\u0411 \\u0445\\u0440\\u0430\\u043d\\u0438\\u043b\\u0438\\u0449\\u0430. \\u041d\\u0430\\u043a\\u043e\\u043f\\u0438\\u0442\\u0435\\u043b\\u044c \\u043c\\u043e\\u0436\\u043d\\u043e \\u0440\\u0430\\u0441\\u0448\\u0438\\u0440\\u0438\\u0442\\u044c \\u0441 \\u043f\\u043e\\u043c\\u043e\\u0449\\u044c\\u044e \\u043a\\u0430\\u0440\\u0442\\u044b microSD \\u043e\\u0431\\u044a\\u0451\\u043c\\u043e\\u043c \\u0434\\u043e 2\\u00a0\\u0422\\u0411.\\u0418\\u0437\\u043e\\u0431\\u0440\\u0430\\u0436\\u0435\\u043d\\u0438\\u0435: Samsung\\u041f\\u043b\\u0430\\u043d\\u0448\\u0435\\u0442 \\u0438\\u043c\\u0435\\u0435\\u0442 \\u0432\\u0441\\u0435\\u0433\\u043e \\u043e\\u0434\\u043d\\u0443 13-\\u043c\\u0435\\u0433\\u0430\\u043f\\u0438\\u043a\\u0441\\u0435\\u043b\\u044c\\u043d\\u0443\\u044e \\u043a\\u0430\\u043c\\u0435\\u0440\\u0443. \\u0410\\u043a\\u043a\\u0443\\u043c\\u0443\\u043b\\u044f\\u0442\\u043e\\u0440 \\u0451\\u043c\\u043a\\u043e\\u0441\\u0442\\u044c\\u044e 8 000 \\u043c\\u0410\\u22c5\\u0447 \\u043f\\u043e\\u0434\\u0434\\u0435\\u0440\\u0436\\u0438\\u0432\\u0430\\u0435\\u0442 \\u0431\\u044b\\u0441\\u0442\\u0440\\u0443\\u044e \\u0437\\u0430\\u0440\\u044f\\u0434\\u043a\\u0443 \\u043c\\u043e\\u0449\\u043d\\u043e\\u0441\\u0442\\u044c\\u044e 45 \\u0412\\u0442. \\u041f\\u0440\\u0438\\u044f\\u0442\\u043d\\u044b\\u043c \\u0434\\u043e\\u043f\\u043e\\u043b\\u043d\\u0435\\u043d\\u0438\\u0435\\u043c \\u0441\\u0442\\u0430\\u043b\\u043e \\u0432\\u043e\\u0437\\u0432\\u0440\\u0430\\u0449\\u0435\\u043d\\u0438\\u0435 \\u0437\\u0430\\u0449\\u0438\\u0442\\u044b \\u043e\\u0442 \\u043f\\u044b\\u043b\\u0438 \\u0438 \\u0432\\u043e\\u0434\\u044b \\u043f\\u043e \\u0441\\u0442\\u0430\\u043d\\u0434\\u0430\\u0440\\u0442\\u0443 IP68, \\u0430 \\u0442\\u0430\\u043a\\u0436\\u0435 \\u043f\\u043e\\u0434\\u0434\\u0435\\u0440\\u0436\\u043a\\u0438 \\u0441\\u0442\\u0438\\u043b\\u0443\\u0441\\u0430 S Pen (\\u0431\\u0435\\u0437 Bluetooth). \\u00ab\\u041f\\u0435\\u0440\\u043e\\u00bb \\u0438\\u0434\\u0451\\u0442 \\u0432 \\u043a\\u043e\\u043c\\u043f\\u043b\\u0435\\u043a\\u0442\\u0435, \\u0442\\u0430\\u043a \\u0447\\u0442\\u043e \\u043f\\u043e\\u043a\\u0443\\u043f\\u0430\\u0442\\u044c \\u0435\\u0433\\u043e \\u043e\\u0442\\u0434\\u0435\\u043b\\u044c\\u043d\\u043e \\u043d\\u0435 \\u043f\\u0440\\u0438\\u0434\\u0451\\u0442\\u0441\\u044f.\\u0420\\u0430\\u0431\\u043e\\u0442\\u0430\\u0435\\u0442 \\u043e\\u043d \\u043d\\u0430 \\u0431\\u0430\\u0437\\u0435 Android 15 \\u0441 \\u043c\\u043d\\u043e\\u0436\\u0435\\u0441\\u0442\\u0432\\u043e\\u043c \\u0418\\u0418-\\u0444\\u0443\\u043d\\u043a\\u0446\\u0438\\u0439. \\u0421\\u0440\\u0435\\u0434\\u0438 \\u043d\\u0438\\u0445 \\u2014 \\u0438\\u043d\\u0441\\u0442\\u0440\\u0443\\u043c\\u0435\\u043d\\u0442\\u044b \\u0434\\u043b\\u044f \\u043e\\u0431\\u0440\\u0430\\u0431\\u043e\\u0442\\u043a\\u0438 \\u0444\\u043e\\u0442\\u043e\\u0433\\u0440\\u0430\\u0444\\u0438\\u0439, \\u0442\\u0430\\u043a\\u0438\\u0435 \\u043a\\u0430\\u043a \\u00ab\\u0423\\u0434\\u0430\\u043b\\u0435\\u043d\\u0438\\u0435 \\u043e\\u0431\\u044a\\u0435\\u043a\\u0442\\u043e\\u0432\\u00bb \\u0438 \\u00ab\\u041b\\u0443\\u0447\\u0448\\u0435\\u0435 \\u043b\\u0438\\u0446\\u043e\\u00bb, \\u043f\\u043e\\u0437\\u0432\\u043e\\u043b\\u044f\\u044e\\u0449\\u0435\\u0435 \\u0432\\u044b\\u0431\\u0438\\u0440\\u0430\\u0442\\u044c \\u043d\\u0430\\u0438\\u0431\\u043e\\u043b\\u0435\\u0435 \\u0443\\u0434\\u0430\\u0447\\u043d\\u044b\\u0435 \\u0432\\u044b\\u0440\\u0430\\u0436\\u0435\\u043d\\u0438\\u044f \\u043b\\u0438\\u0446 \\u043d\\u0430 \\u0433\\u0440\\u0443\\u043f\\u043f\\u043e\\u0432\\u044b\\u0445 \\u0441\\u043d\\u0438\\u043c\\u043a\\u0430\\u0445 \\u0438 \\u043a\\u043e\\u043c\\u0431\\u0438\\u043d\\u0438\\u0440\\u043e\\u0432\\u0430\\u0442\\u044c \\u0438\\u0445.\\u0418\\u0437\\u043e\\u0431\\u0440\\u0430\\u0436\\u0435\\u043d\\u0438\\u0435: SamsungTab S10 FE Plus \\u0441\\u0442\\u0430\\u043b \\u043f\\u0435\\u0440\\u0432\\u044b\\u043c \\u043f\\u043b\\u0430\\u043d\\u0448\\u0435\\u0442\\u043e\\u043c \\u0432 \\u0441\\u0435\\u0440\\u0438\\u0438 \\u0441 13,1\\u2011\\u0434\\u044e\\u0439\\u043c\\u043e\\u0432\\u044b\\u043c \\u044d\\u043a\\u0440\\u0430\\u043d\\u043e\\u043c. \\u042d\\u0442\\u043e \\u0431\\u043e\\u043b\\u044c\\u0448\\u0435, \\u0447\\u0435\\u043c \\u0443 S10 Plus (12,4 \\u0434\\u044e\\u0439\\u043c\\u0430), \\u043d\\u043e \\u043c\\u0435\\u043d\\u044c\\u0448\\u0435 \\u043f\\u0430\\u043d\\u0435\\u043b\\u0438 Ultra (14,6 \\u0434\\u044e\\u0439\\u043c\\u0430). \\u0425\\u0430\\u0440\\u0430\\u043a\\u0442\\u0435\\u0440\\u0438\\u0441\\u0442\\u0438\\u043a\\u0438 \\u0434\\u0438\\u0441\\u043f\\u043b\\u0435\\u044f, \\u0430 \\u0442\\u0430\\u043a\\u0436\\u0435 \\u043a\\u0430\\u043c\\u0435\\u0440\\u0430, \\u0447\\u0438\\u043f\\u0441\\u0435\\u0442 \\u0438 \\u043a\\u043e\\u043d\\u0444\\u0438\\u0433\\u0443\\u0440\\u0430\\u0446\\u0438\\u0438 \\u043f\\u0430\\u043c\\u044f\\u0442\\u0438 \\u0442\\u0430\\u043a\\u0438\\u0435 \\u0436\\u0435, \\u043a\\u0430\\u043a \\u0443 \\u0431\\u0430\\u0437\\u043e\\u0432\\u043e\\u0439 \\u0432\\u0435\\u0440\\u0441\\u0438\\u0438.\\u041e\\u0441\\u043d\\u043e\\u0432\\u043d\\u044b\\u043c \\u043e\\u0442\\u043b\\u0438\\u0447\\u0438\\u0435\\u043c, \\u043d\\u0435 \\u0441\\u0447\\u0438\\u0442\\u0430\\u044f \\u0443\\u0432\\u0435\\u043b\\u0438\\u0447\\u0435\\u043d\\u043d\\u043e\\u0433\\u043e \\u0434\\u0438\\u0441\\u043f\\u043b\\u0435\\u044f, \\u0441\\u0442\\u0430\\u043b\\u0430 \\u0431\\u0430\\u0442\\u0430\\u0440\\u0435\\u044f \\u0431\\u043e\\u043b\\u044c\\u0448\\u0435\\u0433\\u043e \\u0440\\u0430\\u0437\\u043c\\u0435\\u0440\\u0430 \\u2014 \\u0451\\u043c\\u043a\\u043e\\u0441\\u0442\\u044c\\u044e 10 090 \\u043c\\u0410\\u22c5\\u0447. \\u041f\\u043e\\u0434\\u0434\\u0435\\u0440\\u0436\\u043a\\u0430 \\u0431\\u044b\\u0441\\u0442\\u0440\\u043e\\u0439 \\u0437\\u0430\\u0440\\u044f\\u0434\\u043a\\u0438 \\u043c\\u043e\\u0449\\u043d\\u043e\\u0441\\u0442\\u044c\\u044e 45 \\u0412\\u0442 \\u0442\\u043e\\u0436\\u0435\\u00a0\\u0435\\u0441\\u0442\\u044c.\\u0418\\u0437\\u043e\\u0431\\u0440\\u0430\\u0436\\u0435\\u043d\\u0438\\u0435: Samsung\\u041f\\u043b\\u0430\\u043d\\u0448\\u0435\\u0442\\u044b \\u043f\\u043e\\u0441\\u0442\\u0443\\u043f\\u044f\\u0442 \\u0432 \\u043f\\u0440\\u043e\\u0434\\u0430\\u0436\\u0443 10 \\u0430\\u043f\\u0440\\u0435\\u043b\\u044f \\u0438 \\u0431\\u0443\\u0434\\u0443\\u0442 \\u0434\\u043e\\u0441\\u0442\\u0443\\u043f\\u043d\\u044b \\u0432 \\u0442\\u0440\\u0451\\u0445 \\u0446\\u0432\\u0435\\u0442\\u0430\\u0445: \\u0441\\u0435\\u0440\\u043e\\u043c, \\u0441\\u0435\\u0440\\u0435\\u0431\\u0440\\u0438\\u0441\\u0442\\u043e\\u043c \\u0438 \\u0441\\u0438\\u043d\\u0435\\u043c. \\u0421\\u0442\\u043e\\u0438\\u043c\\u043e\\u0441\\u0442\\u044c Tab S10 FE \\u0432 \\u0431\\u0430\\u0437\\u043e\\u0432\\u043e\\u0439 \\u043a\\u043e\\u043d\\u0444\\u0438\\u0433\\u0443\\u0440\\u0430\\u0446\\u0438\\u0438 \\u0441\\u043e\\u0441\\u0442\\u0430\\u0432\\u0438\\u0442 500 \\u0434\\u043e\\u043b\\u043b\\u0430\\u0440\\u043e\\u0432 (\\u224842 000 \\u0440\\u0443\\u0431\\u043b\\u0435\\u0439), \\u0430 Tab S10 FE Plus \\u2014 650 \\u0434\\u043e\\u043b\\u043b\\u0430\\u0440\\u043e\\u0432 (\\u224854 700 \\u0440\\u0443\\u0431\\u043b\\u0435\\u0439). \\u0412\\u044b\\u0445\\u043e\\u0434\\u0438\\u0442, \\u043e\\u043d\\u0438 \\u043f\\u043e\\u0434\\u043e\\u0440\\u043e\\u0436\\u0430\\u043b\\u0438 \\u043d\\u0430 50 \\u0434\\u043e\\u043b\\u043b\\u0430\\u0440\\u043e\\u0432 (\\u22484 200 \\u0440\\u0443\\u0431\\u043b\\u0435\\u0439).\\u0411\\u043e\\u043b\\u044c\\u0448\\u0435 \\u043a\\u043b\\u0430\\u0441\\u0441\\u043d\\u044b\\u0445 \\u043d\\u043e\\u0432\\u0438\\u043d\\u043e\\u043a\\ud83d\\ude80\\u0410\\u043d\\u043e\\u043d\\u0441\\u0438\\u0440\\u043e\\u0432\\u0430\\u043d Xeta One \\u2014 \\u0441\\u043c\\u0430\\u0440\\u0442\\u0444\\u043e\\u043d \\u0441 QWERTY-\\u043a\\u043b\\u0430\\u0432\\u0438\\u0430\\u0442\\u0443\\u0440\\u043e\\u0439 \\u0438 \\u0432\\u044b\\u0434\\u0432\\u0438\\u0436\\u043d\\u043e\\u0439 \\u0441\\u0435\\u043b\\u0444\\u0438-\\u043a\\u0430\\u043c\\u0435\\u0440\\u043e\\u0439\\u041f\\u0440\\u0435\\u0434\\u0441\\u0442\\u0430\\u0432\\u043b\\u0435\\u043d\\u044b \\u0447\\u0430\\u0441\\u044b Amazfit Bip 6 \\u0441 \\u0434\\u0432\\u0443\\u0445\\u043d\\u0435\\u0434\\u0435\\u043b\\u044c\\u043d\\u043e\\u0439 \\u0430\\u0432\\u0442\\u043e\\u043d\\u043e\\u043c\\u043d\\u043e\\u0441\\u0442\\u044c\\u044e \\u0438 \\u0433\\u043e\\u043b\\u043e\\u0441\\u043e\\u0432\\u044b\\u043c \\u0443\\u043f\\u0440\\u0430\\u0432\\u043b\\u0435\\u043d\\u0438\\u0435\\u043c\\u0412 \\u0420\\u043e\\u0441\\u0441\\u0438\\u0438 \\u0432\\u044b\\u0448\\u0435\\u043b \\u0444\\u043b\\u0430\\u0433\\u043c\\u0430\\u043d\\u0441\\u043a\\u0438\\u0439 \\u0441\\u043c\\u0430\\u0440\\u0442\\u0444\\u043e\\u043d Honor Magic 7\"\n        ],\n        \"semantic_type\": \"\",\n        \"description\": \"\"\n      }\n    }\n  ]\n}",
              "type": "dataframe",
              "variable_name": "data"
            },
            "text/html": [
              "\n",
              "  <div id=\"df-821f570a-79e3-4dde-b542-239555bab988\" class=\"colab-df-container\">\n",
              "    <div>\n",
              "<style scoped>\n",
              "    .dataframe tbody tr th:only-of-type {\n",
              "        vertical-align: middle;\n",
              "    }\n",
              "\n",
              "    .dataframe tbody tr th {\n",
              "        vertical-align: top;\n",
              "    }\n",
              "\n",
              "    .dataframe thead th {\n",
              "        text-align: right;\n",
              "    }\n",
              "</style>\n",
              "<table border=\"1\" class=\"dataframe\">\n",
              "  <thead>\n",
              "    <tr style=\"text-align: right;\">\n",
              "      <th></th>\n",
              "      <th>title</th>\n",
              "      <th>text</th>\n",
              "    </tr>\n",
              "  </thead>\n",
              "  <tbody>\n",
              "    <tr>\n",
              "      <th>0</th>\n",
              "      <td>В самолёт и поезд: 20 бесплатных мобильных игр, которым не нужен интернет</td>\n",
              "      <td>Долгая дорога — отличный повод отключиться от суеты и немного поиграть. Но не всегда под рукой есть стабильный интернет. На этот случай мы подготовили подборку бесплатных мобильных игр, которые работают офлайн. Всё, что нужно — зарядить телефон или планшет и заранее скачать то, что понравилось. Выбирайте!Defense Zone 3 HDХардкорный Tower Defense.Рейтинг в Google Play: 4,7.\\nРейтинг в App Store...</td>\n",
              "    </tr>\n",
              "    <tr>\n",
              "      <th>1</th>\n",
              "      <td>Как выбрать бюджетный игровой ноутбук</td>\n",
              "      <td>Какой ноутбук можно считать игровымОчевидно, что игровым можно назвать то устройство, на котором будет комфортно запускать современные игры, требовательные к производительности. Но что подразумевается под понятием «комфортно»? Разберём ряд важных для этого параметров.FPSFPS (Frame per Second — «количество кадров в секунду») один из основных показателей, влияющих на комфорт игры. Чем больше кад...</td>\n",
              "    </tr>\n",
              "    <tr>\n",
              "      <th>2</th>\n",
              "      <td>Лучшие смартфоны апреля</td>\n",
              "      <td>Realme GT7 — холодный флагман с новым Dimensity 9400+Изображение: Realme Дисплей: AMOLED, 6,8 дюйма, 2 800 × 1 280 пикселей.\\nПроцессор: MediaTek Dimensity 9400+ (3 нм).\\nКамера: 50 Мп (широкоугольная) + 8 Мп (ультраширокоугольная); фронтальная — 16 Мп.\\nПамять: 12/256, 12/512, 16/512, 16/1024 ГБ.\\nАккумулятор: 7 200 мА·ч; проводная зарядка 100 Вт.\\nСистема: Realme UI 6.0 (Android 15).\\nВыносл...</td>\n",
              "    </tr>\n",
              "    <tr>\n",
              "      <th>3</th>\n",
              "      <td>Xiaomi выпустила умную электронную скакалку с дисплеем</td>\n",
              "      <td>Компания Xiaomi анонсировала Mijia Smart Skipping Rope 2 — улучшенную версию своей умной скакалки. От обычной она отличается отсутствием традиционной верёвки — её заменяют небольшие утяжелители, имитирующие сопротивления при прыжках. Его можно адаптировать под рост пользователя.Изображение: Xiaomi От предыдущего поколения скакалки Mijia Smart Skipping Rope 2 отличается тем, что позволяет перей...</td>\n",
              "    </tr>\n",
              "    <tr>\n",
              "      <th>4</th>\n",
              "      <td>Крипта за глаза: Сэм Альтман запустил проект идентификации людей по радужке</td>\n",
              "      <td>Сооснователь Open AI Сэм Альтман и его стартап Tools for Humanity объявили о запуске в США новой криптовалюты World (WLD). Получить её можно будет в обмен на сканирование радужной оболочки глаза, на основе которой сформируют уникальный hash-код. Этот код станет доказательством того, что владелец профиля World ID это человек, а не ИИ. Эта инициатива, первоначально называвшаяся Worldcoin, работа...</td>\n",
              "    </tr>\n",
              "  </tbody>\n",
              "</table>\n",
              "</div>\n",
              "    <div class=\"colab-df-buttons\">\n",
              "\n",
              "  <div class=\"colab-df-container\">\n",
              "    <button class=\"colab-df-convert\" onclick=\"convertToInteractive('df-821f570a-79e3-4dde-b542-239555bab988')\"\n",
              "            title=\"Convert this dataframe to an interactive table.\"\n",
              "            style=\"display:none;\">\n",
              "\n",
              "  <svg xmlns=\"http://www.w3.org/2000/svg\" height=\"24px\" viewBox=\"0 -960 960 960\">\n",
              "    <path d=\"M120-120v-720h720v720H120Zm60-500h600v-160H180v160Zm220 220h160v-160H400v160Zm0 220h160v-160H400v160ZM180-400h160v-160H180v160Zm440 0h160v-160H620v160ZM180-180h160v-160H180v160Zm440 0h160v-160H620v160Z\"/>\n",
              "  </svg>\n",
              "    </button>\n",
              "\n",
              "  <style>\n",
              "    .colab-df-container {\n",
              "      display:flex;\n",
              "      gap: 12px;\n",
              "    }\n",
              "\n",
              "    .colab-df-convert {\n",
              "      background-color: #E8F0FE;\n",
              "      border: none;\n",
              "      border-radius: 50%;\n",
              "      cursor: pointer;\n",
              "      display: none;\n",
              "      fill: #1967D2;\n",
              "      height: 32px;\n",
              "      padding: 0 0 0 0;\n",
              "      width: 32px;\n",
              "    }\n",
              "\n",
              "    .colab-df-convert:hover {\n",
              "      background-color: #E2EBFA;\n",
              "      box-shadow: 0px 1px 2px rgba(60, 64, 67, 0.3), 0px 1px 3px 1px rgba(60, 64, 67, 0.15);\n",
              "      fill: #174EA6;\n",
              "    }\n",
              "\n",
              "    .colab-df-buttons div {\n",
              "      margin-bottom: 4px;\n",
              "    }\n",
              "\n",
              "    [theme=dark] .colab-df-convert {\n",
              "      background-color: #3B4455;\n",
              "      fill: #D2E3FC;\n",
              "    }\n",
              "\n",
              "    [theme=dark] .colab-df-convert:hover {\n",
              "      background-color: #434B5C;\n",
              "      box-shadow: 0px 1px 3px 1px rgba(0, 0, 0, 0.15);\n",
              "      filter: drop-shadow(0px 1px 2px rgba(0, 0, 0, 0.3));\n",
              "      fill: #FFFFFF;\n",
              "    }\n",
              "  </style>\n",
              "\n",
              "    <script>\n",
              "      const buttonEl =\n",
              "        document.querySelector('#df-821f570a-79e3-4dde-b542-239555bab988 button.colab-df-convert');\n",
              "      buttonEl.style.display =\n",
              "        google.colab.kernel.accessAllowed ? 'block' : 'none';\n",
              "\n",
              "      async function convertToInteractive(key) {\n",
              "        const element = document.querySelector('#df-821f570a-79e3-4dde-b542-239555bab988');\n",
              "        const dataTable =\n",
              "          await google.colab.kernel.invokeFunction('convertToInteractive',\n",
              "                                                    [key], {});\n",
              "        if (!dataTable) return;\n",
              "\n",
              "        const docLinkHtml = 'Like what you see? Visit the ' +\n",
              "          '<a target=\"_blank\" href=https://colab.research.google.com/notebooks/data_table.ipynb>data table notebook</a>'\n",
              "          + ' to learn more about interactive tables.';\n",
              "        element.innerHTML = '';\n",
              "        dataTable['output_type'] = 'display_data';\n",
              "        await google.colab.output.renderOutput(dataTable, element);\n",
              "        const docLink = document.createElement('div');\n",
              "        docLink.innerHTML = docLinkHtml;\n",
              "        element.appendChild(docLink);\n",
              "      }\n",
              "    </script>\n",
              "  </div>\n",
              "\n",
              "\n",
              "    <div id=\"df-43d05df7-0415-4a50-8954-56d87c7dc82f\">\n",
              "      <button class=\"colab-df-quickchart\" onclick=\"quickchart('df-43d05df7-0415-4a50-8954-56d87c7dc82f')\"\n",
              "                title=\"Suggest charts\"\n",
              "                style=\"display:none;\">\n",
              "\n",
              "<svg xmlns=\"http://www.w3.org/2000/svg\" height=\"24px\"viewBox=\"0 0 24 24\"\n",
              "     width=\"24px\">\n",
              "    <g>\n",
              "        <path d=\"M19 3H5c-1.1 0-2 .9-2 2v14c0 1.1.9 2 2 2h14c1.1 0 2-.9 2-2V5c0-1.1-.9-2-2-2zM9 17H7v-7h2v7zm4 0h-2V7h2v10zm4 0h-2v-4h2v4z\"/>\n",
              "    </g>\n",
              "</svg>\n",
              "      </button>\n",
              "\n",
              "<style>\n",
              "  .colab-df-quickchart {\n",
              "      --bg-color: #E8F0FE;\n",
              "      --fill-color: #1967D2;\n",
              "      --hover-bg-color: #E2EBFA;\n",
              "      --hover-fill-color: #174EA6;\n",
              "      --disabled-fill-color: #AAA;\n",
              "      --disabled-bg-color: #DDD;\n",
              "  }\n",
              "\n",
              "  [theme=dark] .colab-df-quickchart {\n",
              "      --bg-color: #3B4455;\n",
              "      --fill-color: #D2E3FC;\n",
              "      --hover-bg-color: #434B5C;\n",
              "      --hover-fill-color: #FFFFFF;\n",
              "      --disabled-bg-color: #3B4455;\n",
              "      --disabled-fill-color: #666;\n",
              "  }\n",
              "\n",
              "  .colab-df-quickchart {\n",
              "    background-color: var(--bg-color);\n",
              "    border: none;\n",
              "    border-radius: 50%;\n",
              "    cursor: pointer;\n",
              "    display: none;\n",
              "    fill: var(--fill-color);\n",
              "    height: 32px;\n",
              "    padding: 0;\n",
              "    width: 32px;\n",
              "  }\n",
              "\n",
              "  .colab-df-quickchart:hover {\n",
              "    background-color: var(--hover-bg-color);\n",
              "    box-shadow: 0 1px 2px rgba(60, 64, 67, 0.3), 0 1px 3px 1px rgba(60, 64, 67, 0.15);\n",
              "    fill: var(--button-hover-fill-color);\n",
              "  }\n",
              "\n",
              "  .colab-df-quickchart-complete:disabled,\n",
              "  .colab-df-quickchart-complete:disabled:hover {\n",
              "    background-color: var(--disabled-bg-color);\n",
              "    fill: var(--disabled-fill-color);\n",
              "    box-shadow: none;\n",
              "  }\n",
              "\n",
              "  .colab-df-spinner {\n",
              "    border: 2px solid var(--fill-color);\n",
              "    border-color: transparent;\n",
              "    border-bottom-color: var(--fill-color);\n",
              "    animation:\n",
              "      spin 1s steps(1) infinite;\n",
              "  }\n",
              "\n",
              "  @keyframes spin {\n",
              "    0% {\n",
              "      border-color: transparent;\n",
              "      border-bottom-color: var(--fill-color);\n",
              "      border-left-color: var(--fill-color);\n",
              "    }\n",
              "    20% {\n",
              "      border-color: transparent;\n",
              "      border-left-color: var(--fill-color);\n",
              "      border-top-color: var(--fill-color);\n",
              "    }\n",
              "    30% {\n",
              "      border-color: transparent;\n",
              "      border-left-color: var(--fill-color);\n",
              "      border-top-color: var(--fill-color);\n",
              "      border-right-color: var(--fill-color);\n",
              "    }\n",
              "    40% {\n",
              "      border-color: transparent;\n",
              "      border-right-color: var(--fill-color);\n",
              "      border-top-color: var(--fill-color);\n",
              "    }\n",
              "    60% {\n",
              "      border-color: transparent;\n",
              "      border-right-color: var(--fill-color);\n",
              "    }\n",
              "    80% {\n",
              "      border-color: transparent;\n",
              "      border-right-color: var(--fill-color);\n",
              "      border-bottom-color: var(--fill-color);\n",
              "    }\n",
              "    90% {\n",
              "      border-color: transparent;\n",
              "      border-bottom-color: var(--fill-color);\n",
              "    }\n",
              "  }\n",
              "</style>\n",
              "\n",
              "      <script>\n",
              "        async function quickchart(key) {\n",
              "          const quickchartButtonEl =\n",
              "            document.querySelector('#' + key + ' button');\n",
              "          quickchartButtonEl.disabled = true;  // To prevent multiple clicks.\n",
              "          quickchartButtonEl.classList.add('colab-df-spinner');\n",
              "          try {\n",
              "            const charts = await google.colab.kernel.invokeFunction(\n",
              "                'suggestCharts', [key], {});\n",
              "          } catch (error) {\n",
              "            console.error('Error during call to suggestCharts:', error);\n",
              "          }\n",
              "          quickchartButtonEl.classList.remove('colab-df-spinner');\n",
              "          quickchartButtonEl.classList.add('colab-df-quickchart-complete');\n",
              "        }\n",
              "        (() => {\n",
              "          let quickchartButtonEl =\n",
              "            document.querySelector('#df-43d05df7-0415-4a50-8954-56d87c7dc82f button');\n",
              "          quickchartButtonEl.style.display =\n",
              "            google.colab.kernel.accessAllowed ? 'block' : 'none';\n",
              "        })();\n",
              "      </script>\n",
              "    </div>\n",
              "    </div>\n",
              "  </div>\n"
            ],
            "text/plain": [
              "                                                                         title  \\\n",
              "0    В самолёт и поезд: 20 бесплатных мобильных игр, которым не нужен интернет   \n",
              "1                                        Как выбрать бюджетный игровой ноутбук   \n",
              "2                                                      Лучшие смартфоны апреля   \n",
              "3                       Xiaomi выпустила умную электронную скакалку с дисплеем   \n",
              "4  Крипта за глаза: Сэм Альтман запустил проект идентификации людей по радужке   \n",
              "\n",
              "                                                                                                                                                                                                                                                                                                                                                                                                              text  \n",
              "0  Долгая дорога — отличный повод отключиться от суеты и немного поиграть. Но не всегда под рукой есть стабильный интернет. На этот случай мы подготовили подборку бесплатных мобильных игр, которые работают офлайн. Всё, что нужно — зарядить телефон или планшет и заранее скачать то, что понравилось. Выбирайте!Defense Zone 3 HDХардкорный Tower Defense.Рейтинг в Google Play: 4,7.\\nРейтинг в App Store...  \n",
              "1  Какой ноутбук можно считать игровымОчевидно, что игровым можно назвать то устройство, на котором будет комфортно запускать современные игры, требовательные к производительности. Но что подразумевается под понятием «комфортно»? Разберём ряд важных для этого параметров.FPSFPS (Frame per Second — «количество кадров в секунду») один из основных показателей, влияющих на комфорт игры. Чем больше кад...  \n",
              "2  Realme GT7 — холодный флагман с новым Dimensity 9400+Изображение: Realme Дисплей: AMOLED, 6,8 дюйма, 2 800 × 1 280 пикселей.\\nПроцессор: MediaTek Dimensity 9400+ (3 нм).\\nКамера: 50 Мп (широкоугольная) + 8 Мп (ультраширокоугольная); фронтальная — 16 Мп.\\nПамять: 12/256, 12/512, 16/512, 16/1024 ГБ.\\nАккумулятор: 7 200 мА·ч; проводная зарядка 100 Вт.\\nСистема: Realme UI 6.0 (Android 15).\\nВыносл...  \n",
              "3  Компания Xiaomi анонсировала Mijia Smart Skipping Rope 2 — улучшенную версию своей умной скакалки. От обычной она отличается отсутствием традиционной верёвки — её заменяют небольшие утяжелители, имитирующие сопротивления при прыжках. Его можно адаптировать под рост пользователя.Изображение: Xiaomi От предыдущего поколения скакалки Mijia Smart Skipping Rope 2 отличается тем, что позволяет перей...  \n",
              "4  Сооснователь Open AI Сэм Альтман и его стартап Tools for Humanity объявили о запуске в США новой криптовалюты World (WLD). Получить её можно будет в обмен на сканирование радужной оболочки глаза, на основе которой сформируют уникальный hash-код. Этот код станет доказательством того, что владелец профиля World ID это человек, а не ИИ. Эта инициатива, первоначально называвшаяся Worldcoin, работа...  "
            ]
          },
          "execution_count": 22,
          "metadata": {},
          "output_type": "execute_result"
        }
      ],
      "source": [
        "data = pd.DataFrame(result)\n",
        "data.head()"
      ]
    }
  ],
  "metadata": {
    "colab": {
      "provenance": []
    },
    "kernelspec": {
      "display_name": "Python 3",
      "name": "python3"
    },
    "language_info": {
      "name": "python"
    }
  },
  "nbformat": 4,
  "nbformat_minor": 0
}
