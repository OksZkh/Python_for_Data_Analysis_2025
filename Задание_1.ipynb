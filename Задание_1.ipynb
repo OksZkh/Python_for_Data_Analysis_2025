{
  "nbformat": 4,
  "nbformat_minor": 0,
  "metadata": {
    "colab": {
      "provenance": []
    },
    "kernelspec": {
      "name": "python3",
      "display_name": "Python 3"
    },
    "language_info": {
      "name": "python"
    }
  },
  "cells": [
    {
      "cell_type": "markdown",
      "source": [
        "**Задание**\n",
        "\n",
        "Создайте класс Chocolate (для определения шоколадного батончика), принимающий следующие аргументы при инициализации: цена батончика (тип - float), добавка к шоколаду (необязательный аргумент, тип - str) - 2 балла\n",
        "\n",
        "При инициализации необходимо проверять, чтобы цена батончика была больше нуля, если цена меньше нуля необходимо вызывать исключение ValueError - 2 балла\n",
        "Реализуйте метод show_my_chocolate, выводящий на печать \"Шоколадный батончик, добавка: {ДОБАВКА}\" в случае наличия добавки, а иначе должна отобразиться следующая фраза: \"Обычный шоколадный батончик\" - 2 балла\n",
        "\n",
        "Переопределите метод __str__, который при применении функции print() к объекты класса Chocolate должен возвращать строку \"Шоколадный батончик, <ЦЕНА> рублей\" - 2 балла\n",
        "Продемонстрируйте использование соответствующего функционала вашего класса, создав несколько объектов Chocolate с различными аргументами - 2 балла"
      ],
      "metadata": {
        "id": "oiTOx-S_DwDe"
      }
    },
    {
      "cell_type": "code",
      "execution_count": null,
      "metadata": {
        "id": "Gbgj0xNzDveR"
      },
      "outputs": [],
      "source": [
        "class Chocolate_bar:\n",
        "    def __init__(self, price: float, additive: str = None):\n",
        "        if price <= 0:\n",
        "            raise ValueError(\"Цена должна быть больше нуля\")\n",
        "        self.price = price\n",
        "        self.additive = additive\n",
        "\n",
        "    def show_my_chocolate(self):\n",
        "        if self.additive:\n",
        "            print(f\"Шоколадный батончик, добавка: {self.additive}\")\n",
        "        else:\n",
        "            print(\"Обычный шоколадный батончик\")\n",
        "\n",
        "    def __str__(self):\n",
        "        return f\"Шоколадный батончик, {self.price} рублей\"\n"
      ]
    },
    {
      "cell_type": "markdown",
      "source": [
        "Демонстрация работы"
      ],
      "metadata": {
        "id": "qrmGI4P2Ez0Q"
      }
    },
    {
      "cell_type": "code",
      "source": [
        "print('\\\\'*30,'Вывод с невалидными данными','\\\\'*30,sep='\\n',end='\\n')\n",
        "\n",
        "try:\n",
        "  # Вывод: Ошибка: Цена должна быть больше нуля\n",
        "  chocolate_bar_1 = Chocolate_bar(-50.0, \"нуга\")\n",
        "  chocolate_bar_2 = Chocolate_bar(150.0)\n",
        "  chocolate_bar_3 = Chocolate_bar(45.0, \"трюфель\")\n",
        "  chocolate_bar_4 = Chocolate_bar(78.65, \"фисташка\")\n",
        "except ValueError as e:\n",
        "    print(f\"Ошибка: {e}\")\n",
        "\n",
        "\n",
        "print('\\\\'*30,'Вывод с корректными данными','\\\\'*30,sep='\\n',end='\\n')\n",
        "\n",
        "try:\n",
        "  chocolate_bar_2 = Chocolate_bar(150.0)\n",
        "  chocolate_bar_3 = Chocolate_bar(45.0, \"трюфель\")\n",
        "  chocolate_bar_4 = Chocolate_bar(78.65, \"фисташка\")\n",
        "  # Вывод: Обычный шоколадный батончик\n",
        "  chocolate_bar_2.show_my_chocolate()\n",
        "  # Вывод: Шоколадный батончик, добавка: трюфель\n",
        "  chocolate_bar_3.show_my_chocolate()\n",
        "  # Вывод: Шоколадный батончик, 78.65 рублей\n",
        "  print(chocolate_bar_4)\n",
        "except ValueError as e:\n",
        "    print(f\"Ошибка: {e}\")\n",
        "\n"
      ],
      "metadata": {
        "colab": {
          "base_uri": "https://localhost:8080/"
        },
        "id": "1iN5bYpEE2DK",
        "outputId": "9faa6584-9945-49cd-d25a-921965073625"
      },
      "execution_count": null,
      "outputs": [
        {
          "output_type": "stream",
          "name": "stdout",
          "text": [
            "\\\\\\\\\\\\\\\\\\\\\\\\\\\\\\\\\\\\\\\\\\\\\\\\\\\\\\\\\\\\\n",
            "Вывод с невалидными данными\n",
            "\\\\\\\\\\\\\\\\\\\\\\\\\\\\\\\\\\\\\\\\\\\\\\\\\\\\\\\\\\\\\n",
            "Ошибка: Цена должна быть больше нуля\n",
            "\\\\\\\\\\\\\\\\\\\\\\\\\\\\\\\\\\\\\\\\\\\\\\\\\\\\\\\\\\\\\n",
            "Вывод с корректными данными\n",
            "\\\\\\\\\\\\\\\\\\\\\\\\\\\\\\\\\\\\\\\\\\\\\\\\\\\\\\\\\\\\\n",
            "Обычный шоколадный батончик\n",
            "Шоколадный батончик, добавка: трюфель\n",
            "Шоколадный батончик, 78.65 рублей\n"
          ]
        }
      ]
    }
  ]
}